{
 "cells": [
  {
   "cell_type": "markdown",
   "id": "c88ffbdc",
   "metadata": {
    "papermill": {
     "duration": 0.007951,
     "end_time": "2023-02-13T10:07:09.772627",
     "exception": false,
     "start_time": "2023-02-13T10:07:09.764676",
     "status": "completed"
    },
    "tags": []
   },
   "source": [
    "# Multiple Linear Regression"
   ]
  },
  {
   "cell_type": "markdown",
   "id": "af093386",
   "metadata": {
    "papermill": {
     "duration": 0.006643,
     "end_time": "2023-02-13T10:07:09.786312",
     "exception": false,
     "start_time": "2023-02-13T10:07:09.779669",
     "status": "completed"
    },
    "tags": []
   },
   "source": [
    "## Importing Libraries"
   ]
  },
  {
   "cell_type": "code",
   "execution_count": 1,
   "id": "81a7fbb1",
   "metadata": {
    "execution": {
     "iopub.execute_input": "2023-02-13T10:07:09.802540Z",
     "iopub.status.busy": "2023-02-13T10:07:09.802028Z",
     "iopub.status.idle": "2023-02-13T10:07:10.895510Z",
     "shell.execute_reply": "2023-02-13T10:07:10.894233Z"
    },
    "papermill": {
     "duration": 1.106772,
     "end_time": "2023-02-13T10:07:10.900018",
     "exception": false,
     "start_time": "2023-02-13T10:07:09.793246",
     "status": "completed"
    },
    "tags": []
   },
   "outputs": [],
   "source": [
    "import pandas as pd\n",
    "import matplotlib.pyplot as plt\n",
    "from sklearn.model_selection import train_test_split\n",
    "from sklearn.metrics import mean_absolute_error\n",
    "from sklearn.linear_model import LinearRegression"
   ]
  },
  {
   "cell_type": "markdown",
   "id": "8639920c",
   "metadata": {
    "papermill": {
     "duration": 0.006846,
     "end_time": "2023-02-13T10:07:10.915151",
     "exception": false,
     "start_time": "2023-02-13T10:07:10.908305",
     "status": "completed"
    },
    "tags": []
   },
   "source": [
    "## Loading Data"
   ]
  },
  {
   "cell_type": "code",
   "execution_count": 2,
   "id": "8a8920de",
   "metadata": {
    "execution": {
     "iopub.execute_input": "2023-02-13T10:07:10.931229Z",
     "iopub.status.busy": "2023-02-13T10:07:10.930798Z",
     "iopub.status.idle": "2023-02-13T10:07:10.949859Z",
     "shell.execute_reply": "2023-02-13T10:07:10.948437Z"
    },
    "papermill": {
     "duration": 0.030609,
     "end_time": "2023-02-13T10:07:10.952602",
     "exception": false,
     "start_time": "2023-02-13T10:07:10.921993",
     "status": "completed"
    },
    "tags": []
   },
   "outputs": [],
   "source": [
    "dataframe = pd.read_csv(\"Advertising.csv\")"
   ]
  },
  {
   "cell_type": "code",
   "execution_count": 3,
   "id": "37b49efc",
   "metadata": {
    "execution": {
     "iopub.execute_input": "2023-02-13T10:07:10.968697Z",
     "iopub.status.busy": "2023-02-13T10:07:10.968180Z",
     "iopub.status.idle": "2023-02-13T10:07:10.992510Z",
     "shell.execute_reply": "2023-02-13T10:07:10.991624Z"
    },
    "papermill": {
     "duration": 0.035733,
     "end_time": "2023-02-13T10:07:10.995314",
     "exception": false,
     "start_time": "2023-02-13T10:07:10.959581",
     "status": "completed"
    },
    "tags": []
   },
   "outputs": [
    {
     "data": {
      "text/html": [
       "<div>\n",
       "<style scoped>\n",
       "    .dataframe tbody tr th:only-of-type {\n",
       "        vertical-align: middle;\n",
       "    }\n",
       "\n",
       "    .dataframe tbody tr th {\n",
       "        vertical-align: top;\n",
       "    }\n",
       "\n",
       "    .dataframe thead th {\n",
       "        text-align: right;\n",
       "    }\n",
       "</style>\n",
       "<table border=\"1\" class=\"dataframe\">\n",
       "  <thead>\n",
       "    <tr style=\"text-align: right;\">\n",
       "      <th></th>\n",
       "      <th>Unnamed: 0</th>\n",
       "      <th>TV</th>\n",
       "      <th>Radio</th>\n",
       "      <th>Newspaper</th>\n",
       "      <th>Sales</th>\n",
       "    </tr>\n",
       "  </thead>\n",
       "  <tbody>\n",
       "    <tr>\n",
       "      <th>0</th>\n",
       "      <td>1</td>\n",
       "      <td>230.1</td>\n",
       "      <td>37.8</td>\n",
       "      <td>69.2</td>\n",
       "      <td>22.1</td>\n",
       "    </tr>\n",
       "    <tr>\n",
       "      <th>1</th>\n",
       "      <td>2</td>\n",
       "      <td>44.5</td>\n",
       "      <td>39.3</td>\n",
       "      <td>45.1</td>\n",
       "      <td>10.4</td>\n",
       "    </tr>\n",
       "    <tr>\n",
       "      <th>2</th>\n",
       "      <td>3</td>\n",
       "      <td>17.2</td>\n",
       "      <td>45.9</td>\n",
       "      <td>69.3</td>\n",
       "      <td>9.3</td>\n",
       "    </tr>\n",
       "    <tr>\n",
       "      <th>3</th>\n",
       "      <td>4</td>\n",
       "      <td>151.5</td>\n",
       "      <td>41.3</td>\n",
       "      <td>58.5</td>\n",
       "      <td>18.5</td>\n",
       "    </tr>\n",
       "    <tr>\n",
       "      <th>4</th>\n",
       "      <td>5</td>\n",
       "      <td>180.8</td>\n",
       "      <td>10.8</td>\n",
       "      <td>58.4</td>\n",
       "      <td>12.9</td>\n",
       "    </tr>\n",
       "  </tbody>\n",
       "</table>\n",
       "</div>"
      ],
      "text/plain": [
       "   Unnamed: 0     TV  Radio  Newspaper  Sales\n",
       "0           1  230.1   37.8       69.2   22.1\n",
       "1           2   44.5   39.3       45.1   10.4\n",
       "2           3   17.2   45.9       69.3    9.3\n",
       "3           4  151.5   41.3       58.5   18.5\n",
       "4           5  180.8   10.8       58.4   12.9"
      ]
     },
     "execution_count": 3,
     "metadata": {},
     "output_type": "execute_result"
    }
   ],
   "source": [
    "dataframe.head()"
   ]
  },
  {
   "cell_type": "code",
   "execution_count": 4,
   "id": "b9ebfd1c",
   "metadata": {},
   "outputs": [
    {
     "data": {
      "text/html": [
       "<div>\n",
       "<style scoped>\n",
       "    .dataframe tbody tr th:only-of-type {\n",
       "        vertical-align: middle;\n",
       "    }\n",
       "\n",
       "    .dataframe tbody tr th {\n",
       "        vertical-align: top;\n",
       "    }\n",
       "\n",
       "    .dataframe thead th {\n",
       "        text-align: right;\n",
       "    }\n",
       "</style>\n",
       "<table border=\"1\" class=\"dataframe\">\n",
       "  <thead>\n",
       "    <tr style=\"text-align: right;\">\n",
       "      <th></th>\n",
       "      <th>Unnamed: 0</th>\n",
       "      <th>TV</th>\n",
       "      <th>Radio</th>\n",
       "      <th>Newspaper</th>\n",
       "      <th>Sales</th>\n",
       "    </tr>\n",
       "  </thead>\n",
       "  <tbody>\n",
       "    <tr>\n",
       "      <th>count</th>\n",
       "      <td>200.000000</td>\n",
       "      <td>200.000000</td>\n",
       "      <td>200.000000</td>\n",
       "      <td>200.000000</td>\n",
       "      <td>200.000000</td>\n",
       "    </tr>\n",
       "    <tr>\n",
       "      <th>mean</th>\n",
       "      <td>100.500000</td>\n",
       "      <td>147.042500</td>\n",
       "      <td>23.264000</td>\n",
       "      <td>30.554000</td>\n",
       "      <td>14.022500</td>\n",
       "    </tr>\n",
       "    <tr>\n",
       "      <th>std</th>\n",
       "      <td>57.879185</td>\n",
       "      <td>85.854236</td>\n",
       "      <td>14.846809</td>\n",
       "      <td>21.778621</td>\n",
       "      <td>5.217457</td>\n",
       "    </tr>\n",
       "    <tr>\n",
       "      <th>min</th>\n",
       "      <td>1.000000</td>\n",
       "      <td>0.700000</td>\n",
       "      <td>0.000000</td>\n",
       "      <td>0.300000</td>\n",
       "      <td>1.600000</td>\n",
       "    </tr>\n",
       "    <tr>\n",
       "      <th>25%</th>\n",
       "      <td>50.750000</td>\n",
       "      <td>74.375000</td>\n",
       "      <td>9.975000</td>\n",
       "      <td>12.750000</td>\n",
       "      <td>10.375000</td>\n",
       "    </tr>\n",
       "    <tr>\n",
       "      <th>50%</th>\n",
       "      <td>100.500000</td>\n",
       "      <td>149.750000</td>\n",
       "      <td>22.900000</td>\n",
       "      <td>25.750000</td>\n",
       "      <td>12.900000</td>\n",
       "    </tr>\n",
       "    <tr>\n",
       "      <th>75%</th>\n",
       "      <td>150.250000</td>\n",
       "      <td>218.825000</td>\n",
       "      <td>36.525000</td>\n",
       "      <td>45.100000</td>\n",
       "      <td>17.400000</td>\n",
       "    </tr>\n",
       "    <tr>\n",
       "      <th>max</th>\n",
       "      <td>200.000000</td>\n",
       "      <td>296.400000</td>\n",
       "      <td>49.600000</td>\n",
       "      <td>114.000000</td>\n",
       "      <td>27.000000</td>\n",
       "    </tr>\n",
       "  </tbody>\n",
       "</table>\n",
       "</div>"
      ],
      "text/plain": [
       "       Unnamed: 0          TV       Radio   Newspaper       Sales\n",
       "count  200.000000  200.000000  200.000000  200.000000  200.000000\n",
       "mean   100.500000  147.042500   23.264000   30.554000   14.022500\n",
       "std     57.879185   85.854236   14.846809   21.778621    5.217457\n",
       "min      1.000000    0.700000    0.000000    0.300000    1.600000\n",
       "25%     50.750000   74.375000    9.975000   12.750000   10.375000\n",
       "50%    100.500000  149.750000   22.900000   25.750000   12.900000\n",
       "75%    150.250000  218.825000   36.525000   45.100000   17.400000\n",
       "max    200.000000  296.400000   49.600000  114.000000   27.000000"
      ]
     },
     "execution_count": 4,
     "metadata": {},
     "output_type": "execute_result"
    }
   ],
   "source": [
    "dataframe.describe()"
   ]
  },
  {
   "cell_type": "code",
   "execution_count": 5,
   "id": "638a5af5",
   "metadata": {},
   "outputs": [
    {
     "data": {
      "text/html": [
       "<div>\n",
       "<style scoped>\n",
       "    .dataframe tbody tr th:only-of-type {\n",
       "        vertical-align: middle;\n",
       "    }\n",
       "\n",
       "    .dataframe tbody tr th {\n",
       "        vertical-align: top;\n",
       "    }\n",
       "\n",
       "    .dataframe thead th {\n",
       "        text-align: right;\n",
       "    }\n",
       "</style>\n",
       "<table border=\"1\" class=\"dataframe\">\n",
       "  <thead>\n",
       "    <tr style=\"text-align: right;\">\n",
       "      <th></th>\n",
       "      <th>Unnamed: 0</th>\n",
       "      <th>TV</th>\n",
       "      <th>Radio</th>\n",
       "      <th>Newspaper</th>\n",
       "      <th>Sales</th>\n",
       "    </tr>\n",
       "  </thead>\n",
       "  <tbody>\n",
       "    <tr>\n",
       "      <th>0</th>\n",
       "      <td>False</td>\n",
       "      <td>False</td>\n",
       "      <td>False</td>\n",
       "      <td>False</td>\n",
       "      <td>False</td>\n",
       "    </tr>\n",
       "    <tr>\n",
       "      <th>1</th>\n",
       "      <td>False</td>\n",
       "      <td>False</td>\n",
       "      <td>False</td>\n",
       "      <td>False</td>\n",
       "      <td>False</td>\n",
       "    </tr>\n",
       "    <tr>\n",
       "      <th>2</th>\n",
       "      <td>False</td>\n",
       "      <td>False</td>\n",
       "      <td>False</td>\n",
       "      <td>False</td>\n",
       "      <td>False</td>\n",
       "    </tr>\n",
       "    <tr>\n",
       "      <th>3</th>\n",
       "      <td>False</td>\n",
       "      <td>False</td>\n",
       "      <td>False</td>\n",
       "      <td>False</td>\n",
       "      <td>False</td>\n",
       "    </tr>\n",
       "    <tr>\n",
       "      <th>4</th>\n",
       "      <td>False</td>\n",
       "      <td>False</td>\n",
       "      <td>False</td>\n",
       "      <td>False</td>\n",
       "      <td>False</td>\n",
       "    </tr>\n",
       "    <tr>\n",
       "      <th>...</th>\n",
       "      <td>...</td>\n",
       "      <td>...</td>\n",
       "      <td>...</td>\n",
       "      <td>...</td>\n",
       "      <td>...</td>\n",
       "    </tr>\n",
       "    <tr>\n",
       "      <th>195</th>\n",
       "      <td>False</td>\n",
       "      <td>False</td>\n",
       "      <td>False</td>\n",
       "      <td>False</td>\n",
       "      <td>False</td>\n",
       "    </tr>\n",
       "    <tr>\n",
       "      <th>196</th>\n",
       "      <td>False</td>\n",
       "      <td>False</td>\n",
       "      <td>False</td>\n",
       "      <td>False</td>\n",
       "      <td>False</td>\n",
       "    </tr>\n",
       "    <tr>\n",
       "      <th>197</th>\n",
       "      <td>False</td>\n",
       "      <td>False</td>\n",
       "      <td>False</td>\n",
       "      <td>False</td>\n",
       "      <td>False</td>\n",
       "    </tr>\n",
       "    <tr>\n",
       "      <th>198</th>\n",
       "      <td>False</td>\n",
       "      <td>False</td>\n",
       "      <td>False</td>\n",
       "      <td>False</td>\n",
       "      <td>False</td>\n",
       "    </tr>\n",
       "    <tr>\n",
       "      <th>199</th>\n",
       "      <td>False</td>\n",
       "      <td>False</td>\n",
       "      <td>False</td>\n",
       "      <td>False</td>\n",
       "      <td>False</td>\n",
       "    </tr>\n",
       "  </tbody>\n",
       "</table>\n",
       "<p>200 rows × 5 columns</p>\n",
       "</div>"
      ],
      "text/plain": [
       "     Unnamed: 0     TV  Radio  Newspaper  Sales\n",
       "0         False  False  False      False  False\n",
       "1         False  False  False      False  False\n",
       "2         False  False  False      False  False\n",
       "3         False  False  False      False  False\n",
       "4         False  False  False      False  False\n",
       "..          ...    ...    ...        ...    ...\n",
       "195       False  False  False      False  False\n",
       "196       False  False  False      False  False\n",
       "197       False  False  False      False  False\n",
       "198       False  False  False      False  False\n",
       "199       False  False  False      False  False\n",
       "\n",
       "[200 rows x 5 columns]"
      ]
     },
     "execution_count": 5,
     "metadata": {},
     "output_type": "execute_result"
    }
   ],
   "source": [
    "dataframe.isnull()"
   ]
  },
  {
   "cell_type": "code",
   "execution_count": 6,
   "id": "851df10f",
   "metadata": {
    "execution": {
     "iopub.execute_input": "2023-02-13T10:07:11.012581Z",
     "iopub.status.busy": "2023-02-13T10:07:11.011503Z",
     "iopub.status.idle": "2023-02-13T10:07:11.023528Z",
     "shell.execute_reply": "2023-02-13T10:07:11.022164Z"
    },
    "papermill": {
     "duration": 0.023718,
     "end_time": "2023-02-13T10:07:11.026588",
     "exception": false,
     "start_time": "2023-02-13T10:07:11.002870",
     "status": "completed"
    },
    "tags": []
   },
   "outputs": [],
   "source": [
    "dataframe.drop(columns=[\"Unnamed: 0\"], axis=1, inplace=True)"
   ]
  },
  {
   "cell_type": "code",
   "execution_count": 7,
   "id": "b711ddbc",
   "metadata": {
    "execution": {
     "iopub.execute_input": "2023-02-13T10:07:11.045522Z",
     "iopub.status.busy": "2023-02-13T10:07:11.045054Z",
     "iopub.status.idle": "2023-02-13T10:07:11.061406Z",
     "shell.execute_reply": "2023-02-13T10:07:11.060078Z"
    },
    "papermill": {
     "duration": 0.030134,
     "end_time": "2023-02-13T10:07:11.064043",
     "exception": false,
     "start_time": "2023-02-13T10:07:11.033909",
     "status": "completed"
    },
    "tags": []
   },
   "outputs": [
    {
     "data": {
      "text/html": [
       "<div>\n",
       "<style scoped>\n",
       "    .dataframe tbody tr th:only-of-type {\n",
       "        vertical-align: middle;\n",
       "    }\n",
       "\n",
       "    .dataframe tbody tr th {\n",
       "        vertical-align: top;\n",
       "    }\n",
       "\n",
       "    .dataframe thead th {\n",
       "        text-align: right;\n",
       "    }\n",
       "</style>\n",
       "<table border=\"1\" class=\"dataframe\">\n",
       "  <thead>\n",
       "    <tr style=\"text-align: right;\">\n",
       "      <th></th>\n",
       "      <th>TV</th>\n",
       "      <th>Radio</th>\n",
       "      <th>Newspaper</th>\n",
       "      <th>Sales</th>\n",
       "    </tr>\n",
       "  </thead>\n",
       "  <tbody>\n",
       "    <tr>\n",
       "      <th>0</th>\n",
       "      <td>230.1</td>\n",
       "      <td>37.8</td>\n",
       "      <td>69.2</td>\n",
       "      <td>22.1</td>\n",
       "    </tr>\n",
       "    <tr>\n",
       "      <th>1</th>\n",
       "      <td>44.5</td>\n",
       "      <td>39.3</td>\n",
       "      <td>45.1</td>\n",
       "      <td>10.4</td>\n",
       "    </tr>\n",
       "    <tr>\n",
       "      <th>2</th>\n",
       "      <td>17.2</td>\n",
       "      <td>45.9</td>\n",
       "      <td>69.3</td>\n",
       "      <td>9.3</td>\n",
       "    </tr>\n",
       "    <tr>\n",
       "      <th>3</th>\n",
       "      <td>151.5</td>\n",
       "      <td>41.3</td>\n",
       "      <td>58.5</td>\n",
       "      <td>18.5</td>\n",
       "    </tr>\n",
       "    <tr>\n",
       "      <th>4</th>\n",
       "      <td>180.8</td>\n",
       "      <td>10.8</td>\n",
       "      <td>58.4</td>\n",
       "      <td>12.9</td>\n",
       "    </tr>\n",
       "  </tbody>\n",
       "</table>\n",
       "</div>"
      ],
      "text/plain": [
       "      TV  Radio  Newspaper  Sales\n",
       "0  230.1   37.8       69.2   22.1\n",
       "1   44.5   39.3       45.1   10.4\n",
       "2   17.2   45.9       69.3    9.3\n",
       "3  151.5   41.3       58.5   18.5\n",
       "4  180.8   10.8       58.4   12.9"
      ]
     },
     "execution_count": 7,
     "metadata": {},
     "output_type": "execute_result"
    }
   ],
   "source": [
    "dataframe.head()"
   ]
  },
  {
   "cell_type": "markdown",
   "id": "6633997d",
   "metadata": {
    "papermill": {
     "duration": 0.008293,
     "end_time": "2023-02-13T10:07:11.082157",
     "exception": false,
     "start_time": "2023-02-13T10:07:11.073864",
     "status": "completed"
    },
    "tags": []
   },
   "source": [
    "## Splitting Data"
   ]
  },
  {
   "cell_type": "code",
   "execution_count": 8,
   "id": "f43c69c4",
   "metadata": {
    "execution": {
     "iopub.execute_input": "2023-02-13T10:07:11.106915Z",
     "iopub.status.busy": "2023-02-13T10:07:11.106015Z",
     "iopub.status.idle": "2023-02-13T10:07:11.117464Z",
     "shell.execute_reply": "2023-02-13T10:07:11.116329Z"
    },
    "papermill": {
     "duration": 0.028201,
     "end_time": "2023-02-13T10:07:11.120102",
     "exception": false,
     "start_time": "2023-02-13T10:07:11.091901",
     "status": "completed"
    },
    "tags": []
   },
   "outputs": [],
   "source": [
    "features = [\"TV\", \"Radio\", \"Newspaper\"]\n",
    "X = dataframe[features]\n",
    "target = \"Sales\"\n",
    "y = dataframe[target]\n",
    "\n",
    "X_train, X_test, y_train, y_test = train_test_split(X, y, test_size=0.2, random_state=42)"
   ]
  },
  {
   "cell_type": "markdown",
   "id": "1ca7f6ea",
   "metadata": {
    "papermill": {
     "duration": 0.006881,
     "end_time": "2023-02-13T10:07:11.134290",
     "exception": false,
     "start_time": "2023-02-13T10:07:11.127409",
     "status": "completed"
    },
    "tags": []
   },
   "source": [
    "## Build Model"
   ]
  },
  {
   "cell_type": "code",
   "execution_count": 9,
   "id": "7860c900",
   "metadata": {
    "execution": {
     "iopub.execute_input": "2023-02-13T10:07:11.150756Z",
     "iopub.status.busy": "2023-02-13T10:07:11.149935Z",
     "iopub.status.idle": "2023-02-13T10:07:11.157146Z",
     "shell.execute_reply": "2023-02-13T10:07:11.156005Z"
    },
    "papermill": {
     "duration": 0.019246,
     "end_time": "2023-02-13T10:07:11.160797",
     "exception": false,
     "start_time": "2023-02-13T10:07:11.141551",
     "status": "completed"
    },
    "tags": []
   },
   "outputs": [
    {
     "name": "stdout",
     "output_type": "stream",
     "text": [
      "Mean Error:  14.099999999999998\n",
      "Baseline Error:  [14.099999999999998, 14.099999999999998, 14.099999999999998, 14.099999999999998, 14.099999999999998]\n",
      "MAE Baseline:  4.12\n"
     ]
    }
   ],
   "source": [
    "y_mean = y_train.mean()\n",
    "print(\"Mean Error: \", y_mean)\n",
    "y_pred_baseline = [y_mean] * len(y_train)\n",
    "print(\"Baseline Error: \", y_pred_baseline[:5])\n",
    "mae_baseline = mean_absolute_error(y_train, y_pred_baseline)\n",
    "print(\"MAE Baseline: \", mae_baseline)"
   ]
  },
  {
   "cell_type": "markdown",
   "id": "f555cadb",
   "metadata": {
    "papermill": {
     "duration": 0.006962,
     "end_time": "2023-02-13T10:07:11.174995",
     "exception": false,
     "start_time": "2023-02-13T10:07:11.168033",
     "status": "completed"
    },
    "tags": []
   },
   "source": [
    "### Model Instantiation"
   ]
  },
  {
   "cell_type": "code",
   "execution_count": 10,
   "id": "a06fc62a",
   "metadata": {
    "execution": {
     "iopub.execute_input": "2023-02-13T10:07:11.191912Z",
     "iopub.status.busy": "2023-02-13T10:07:11.191513Z",
     "iopub.status.idle": "2023-02-13T10:07:11.218390Z",
     "shell.execute_reply": "2023-02-13T10:07:11.217122Z"
    },
    "papermill": {
     "duration": 0.038964,
     "end_time": "2023-02-13T10:07:11.221310",
     "exception": false,
     "start_time": "2023-02-13T10:07:11.182346",
     "status": "completed"
    },
    "tags": []
   },
   "outputs": [
    {
     "data": {
      "text/plain": [
       "LinearRegression()"
      ]
     },
     "execution_count": 10,
     "metadata": {},
     "output_type": "execute_result"
    }
   ],
   "source": [
    "model = LinearRegression().fit(X_train, y_train)\n",
    "model"
   ]
  },
  {
   "cell_type": "markdown",
   "id": "d6f682d3",
   "metadata": {
    "papermill": {
     "duration": 0.007728,
     "end_time": "2023-02-13T10:07:11.236514",
     "exception": false,
     "start_time": "2023-02-13T10:07:11.228786",
     "status": "completed"
    },
    "tags": []
   },
   "source": [
    "#### Predicitions on Training Data"
   ]
  },
  {
   "cell_type": "code",
   "execution_count": 11,
   "id": "c28efafb",
   "metadata": {
    "execution": {
     "iopub.execute_input": "2023-02-13T10:07:11.254205Z",
     "iopub.status.busy": "2023-02-13T10:07:11.253701Z",
     "iopub.status.idle": "2023-02-13T10:07:11.264573Z",
     "shell.execute_reply": "2023-02-13T10:07:11.263574Z"
    },
    "papermill": {
     "duration": 0.022874,
     "end_time": "2023-02-13T10:07:11.267654",
     "exception": false,
     "start_time": "2023-02-13T10:07:11.244780",
     "status": "completed"
    },
    "tags": []
   },
   "outputs": [
    {
     "name": "stdout",
     "output_type": "stream",
     "text": [
      "Predicted values after model:  [ 9.68827502 12.67337707 10.0553326   8.20010235 13.49562077]\n",
      "MAE for training data after prediction:  1.1984678961500137\n"
     ]
    }
   ],
   "source": [
    "y_pred_training = model.predict(X_train)\n",
    "print(\"Predicted values after model: \", y_pred_training[:5])\n",
    "mae_pred_training = mean_absolute_error(y_train, y_pred_training)\n",
    "print(\"MAE for training data after prediction: \", mae_pred_training)"
   ]
  },
  {
   "cell_type": "markdown",
   "id": "84d525a4",
   "metadata": {
    "papermill": {
     "duration": 0.007207,
     "end_time": "2023-02-13T10:07:11.284385",
     "exception": false,
     "start_time": "2023-02-13T10:07:11.277178",
     "status": "completed"
    },
    "tags": []
   },
   "source": [
    "#### Predictions on Test Data"
   ]
  },
  {
   "cell_type": "code",
   "execution_count": 12,
   "id": "8d57fd3f",
   "metadata": {
    "execution": {
     "iopub.execute_input": "2023-02-13T10:07:11.302552Z",
     "iopub.status.busy": "2023-02-13T10:07:11.301604Z",
     "iopub.status.idle": "2023-02-13T10:07:11.313098Z",
     "shell.execute_reply": "2023-02-13T10:07:11.310922Z"
    },
    "papermill": {
     "duration": 0.025481,
     "end_time": "2023-02-13T10:07:11.317321",
     "exception": false,
     "start_time": "2023-02-13T10:07:11.291840",
     "status": "completed"
    },
    "tags": []
   },
   "outputs": [
    {
     "name": "stdout",
     "output_type": "stream",
     "text": [
      "Predicted values after model:  [16.4080242  20.88988209 21.55384318 10.60850256 22.11237326]\n",
      "MAE for test data after prediction:  1.4607567168117601\n"
     ]
    }
   ],
   "source": [
    "y_pred_test = model.predict(X_test)\n",
    "print(\"Predicted values after model: \", y_pred_test[:5])\n",
    "mae_pred_test = mean_absolute_error(y_test, y_pred_test)\n",
    "print(\"MAE for test data after prediction: \", mae_pred_test)"
   ]
  },
  {
   "cell_type": "markdown",
   "id": "88908484",
   "metadata": {
    "papermill": {
     "duration": 0.007991,
     "end_time": "2023-02-13T10:07:11.334392",
     "exception": false,
     "start_time": "2023-02-13T10:07:11.326401",
     "status": "completed"
    },
    "tags": []
   },
   "source": [
    "##### Extract Intercept"
   ]
  },
  {
   "cell_type": "code",
   "execution_count": 13,
   "id": "bb43324b",
   "metadata": {
    "execution": {
     "iopub.execute_input": "2023-02-13T10:07:11.352896Z",
     "iopub.status.busy": "2023-02-13T10:07:11.352439Z",
     "iopub.status.idle": "2023-02-13T10:07:11.361223Z",
     "shell.execute_reply": "2023-02-13T10:07:11.359407Z"
    },
    "papermill": {
     "duration": 0.022005,
     "end_time": "2023-02-13T10:07:11.364691",
     "exception": false,
     "start_time": "2023-02-13T10:07:11.342686",
     "status": "completed"
    },
    "tags": []
   },
   "outputs": [
    {
     "data": {
      "text/plain": [
       "2.9790673381226256"
      ]
     },
     "execution_count": 13,
     "metadata": {},
     "output_type": "execute_result"
    }
   ],
   "source": [
    "intercept = model.intercept_\n",
    "intercept"
   ]
  },
  {
   "cell_type": "markdown",
   "id": "5f4d9a2c",
   "metadata": {
    "papermill": {
     "duration": 0.008479,
     "end_time": "2023-02-13T10:07:11.382275",
     "exception": false,
     "start_time": "2023-02-13T10:07:11.373796",
     "status": "completed"
    },
    "tags": []
   },
   "source": [
    "##### Extract Coefficient"
   ]
  },
  {
   "cell_type": "code",
   "execution_count": 14,
   "id": "f2ba0c18",
   "metadata": {
    "execution": {
     "iopub.execute_input": "2023-02-13T10:07:11.400181Z",
     "iopub.status.busy": "2023-02-13T10:07:11.399677Z",
     "iopub.status.idle": "2023-02-13T10:07:11.407668Z",
     "shell.execute_reply": "2023-02-13T10:07:11.406384Z"
    },
    "papermill": {
     "duration": 0.019733,
     "end_time": "2023-02-13T10:07:11.410264",
     "exception": false,
     "start_time": "2023-02-13T10:07:11.390531",
     "status": "completed"
    },
    "tags": []
   },
   "outputs": [
    {
     "data": {
      "text/plain": [
       "array([0.04472952, 0.18919505, 0.00276111])"
      ]
     },
     "execution_count": 14,
     "metadata": {},
     "output_type": "execute_result"
    }
   ],
   "source": [
    "coefficient = model.coef_\n",
    "coefficient"
   ]
  },
  {
   "cell_type": "markdown",
   "id": "a13de4cc",
   "metadata": {
    "papermill": {
     "duration": 0.010291,
     "end_time": "2023-02-13T10:07:11.429547",
     "exception": false,
     "start_time": "2023-02-13T10:07:11.419256",
     "status": "completed"
    },
    "tags": []
   },
   "source": [
    "## Multi-LinearRegression Equation"
   ]
  },
  {
   "cell_type": "code",
   "execution_count": 15,
   "id": "920bed78",
   "metadata": {
    "execution": {
     "iopub.execute_input": "2023-02-13T10:07:11.448877Z",
     "iopub.status.busy": "2023-02-13T10:07:11.448461Z",
     "iopub.status.idle": "2023-02-13T10:07:11.454921Z",
     "shell.execute_reply": "2023-02-13T10:07:11.453224Z"
    },
    "papermill": {
     "duration": 0.021931,
     "end_time": "2023-02-13T10:07:11.460665",
     "exception": false,
     "start_time": "2023-02-13T10:07:11.438734",
     "status": "completed"
    },
    "tags": []
   },
   "outputs": [
    {
     "name": "stdout",
     "output_type": "stream",
     "text": [
      "Sales = 2.9790673381226256 + 0.04472951746871633 * TV + 0.18919505423437669 * Radio + 0.0027611143413671657 * Newspaper\n"
     ]
    }
   ],
   "source": [
    "print(f\"Sales = {intercept} + {coefficient[0]} * TV + {coefficient[1]} * Radio + {coefficient[2]} * Newspaper\")"
   ]
  },
  {
   "cell_type": "markdown",
   "id": "56ded3ea",
   "metadata": {
    "papermill": {
     "duration": 0.008743,
     "end_time": "2023-02-13T10:07:11.478209",
     "exception": false,
     "start_time": "2023-02-13T10:07:11.469466",
     "status": "completed"
    },
    "tags": []
   },
   "source": [
    "## Model Evaluation"
   ]
  },
  {
   "cell_type": "code",
   "execution_count": 16,
   "id": "9298b8e4",
   "metadata": {
    "execution": {
     "iopub.execute_input": "2023-02-13T10:07:11.498226Z",
     "iopub.status.busy": "2023-02-13T10:07:11.497771Z",
     "iopub.status.idle": "2023-02-13T10:07:11.511778Z",
     "shell.execute_reply": "2023-02-13T10:07:11.509990Z"
    },
    "papermill": {
     "duration": 0.027097,
     "end_time": "2023-02-13T10:07:11.514771",
     "exception": false,
     "start_time": "2023-02-13T10:07:11.487674",
     "status": "completed"
    },
    "tags": []
   },
   "outputs": [
    {
     "name": "stdout",
     "output_type": "stream",
     "text": [
      "Score of training data:  0.8957008271017817\n",
      "Score of test data:  0.8957008271017817\n"
     ]
    }
   ],
   "source": [
    "print(\"Score of training data: \", model.score(X_train, y_train))\n",
    "print(\"Score of test data: \", model.score(X_train, y_train))"
   ]
  },
  {
   "cell_type": "markdown",
   "id": "8347da81",
   "metadata": {
    "papermill": {
     "duration": 0.007836,
     "end_time": "2023-02-13T10:07:11.531097",
     "exception": false,
     "start_time": "2023-02-13T10:07:11.523261",
     "status": "completed"
    },
    "tags": []
   },
   "source": [
    "## Actual vs Prediction [Training Data]"
   ]
  },
  {
   "cell_type": "code",
   "execution_count": 17,
   "id": "996238a5",
   "metadata": {
    "execution": {
     "iopub.execute_input": "2023-02-13T10:07:11.549503Z",
     "iopub.status.busy": "2023-02-13T10:07:11.549031Z",
     "iopub.status.idle": "2023-02-13T10:07:11.797463Z",
     "shell.execute_reply": "2023-02-13T10:07:11.796259Z"
    },
    "papermill": {
     "duration": 0.260754,
     "end_time": "2023-02-13T10:07:11.800172",
     "exception": false,
     "start_time": "2023-02-13T10:07:11.539418",
     "status": "completed"
    },
    "tags": []
   },
   "outputs": [
    {
     "data": {
      "text/plain": [
       "Text(0.5, 1.0, 'Actual vs Predicted [Training Data]')"
      ]
     },
     "execution_count": 17,
     "metadata": {},
     "output_type": "execute_result"
    },
    {
     "data": {
      "image/png": "[encoded data removed]",
      "text/plain": [
       "<Figure size 640x480 with 1 Axes>"
      ]
     },
     "metadata": {},
     "output_type": "display_data"
    }
   ],
   "source": [
    "plt.scatter(y_train, y_pred_training)\n",
    "plt.xlabel(\"Actual\")\n",
    "plt.ylabel(\"Predicted\")\n",
    "plt.title(\"Actual vs Predicted [Training Data]\")"
   ]
  },
  {
   "cell_type": "markdown",
   "id": "b7a5dd2f",
   "metadata": {
    "papermill": {
     "duration": 0.008344,
     "end_time": "2023-02-13T10:07:11.817250",
     "exception": false,
     "start_time": "2023-02-13T10:07:11.808906",
     "status": "completed"
    },
    "tags": []
   },
   "source": [
    "## Actual vs Prediction [Test Data]"
   ]
  },
  {
   "cell_type": "code",
   "execution_count": 18,
   "id": "a0ea6958",
   "metadata": {
    "execution": {
     "iopub.execute_input": "2023-02-13T10:07:11.837097Z",
     "iopub.status.busy": "2023-02-13T10:07:11.835578Z",
     "iopub.status.idle": "2023-02-13T10:07:12.066987Z",
     "shell.execute_reply": "2023-02-13T10:07:12.066045Z"
    },
    "papermill": {
     "duration": 0.243804,
     "end_time": "2023-02-13T10:07:12.069410",
     "exception": false,
     "start_time": "2023-02-13T10:07:11.825606",
     "status": "completed"
    },
    "tags": []
   },
   "outputs": [
    {
     "data": {
      "text/plain": [
       "Text(0.5, 1.0, 'Actual vs Predicted [Test Data]')"
      ]
     },
     "execution_count": 18,
     "metadata": {},
     "output_type": "execute_result"
    },
    {
     "data": {
      "image/png": "[encoded data removed]",
      "text/plain": [
       "<Figure size 640x480 with 1 Axes>"
      ]
     },
     "metadata": {},
     "output_type": "display_data"
    }
   ],
   "source": [
    "plt.scatter(y_test, y_pred_test)\n",
    "plt.xlabel(\"Actual\")\n",
    "plt.ylabel(\"Predicted\")\n",
    "plt.title(\"Actual vs Predicted [Test Data]\")"
   ]
  },
  {
   "cell_type": "markdown",
   "id": "83def982",
   "metadata": {
    "papermill": {
     "duration": 0.008608,
     "end_time": "2023-02-13T10:07:12.087244",
     "exception": false,
     "start_time": "2023-02-13T10:07:12.078636",
     "status": "completed"
    },
    "tags": []
   },
   "source": [
    "## Dataframe of Actual vs Predicted Sales"
   ]
  },
  {
   "cell_type": "code",
   "execution_count": 19,
   "id": "d66b30ad",
   "metadata": {
    "execution": {
     "iopub.execute_input": "2023-02-13T10:07:12.107064Z",
     "iopub.status.busy": "2023-02-13T10:07:12.106190Z",
     "iopub.status.idle": "2023-02-13T10:07:12.119522Z",
     "shell.execute_reply": "2023-02-13T10:07:12.118309Z"
    },
    "papermill": {
     "duration": 0.025795,
     "end_time": "2023-02-13T10:07:12.122023",
     "exception": false,
     "start_time": "2023-02-13T10:07:12.096228",
     "status": "completed"
    },
    "tags": []
   },
   "outputs": [
    {
     "data": {
      "text/html": [
       "<div>\n",
       "<style scoped>\n",
       "    .dataframe tbody tr th:only-of-type {\n",
       "        vertical-align: middle;\n",
       "    }\n",
       "\n",
       "    .dataframe tbody tr th {\n",
       "        vertical-align: top;\n",
       "    }\n",
       "\n",
       "    .dataframe thead th {\n",
       "        text-align: right;\n",
       "    }\n",
       "</style>\n",
       "<table border=\"1\" class=\"dataframe\">\n",
       "  <thead>\n",
       "    <tr style=\"text-align: right;\">\n",
       "      <th></th>\n",
       "      <th>Actual</th>\n",
       "      <th>Predicted</th>\n",
       "    </tr>\n",
       "  </thead>\n",
       "  <tbody>\n",
       "    <tr>\n",
       "      <th>95</th>\n",
       "      <td>16.9</td>\n",
       "      <td>16.408024</td>\n",
       "    </tr>\n",
       "    <tr>\n",
       "      <th>15</th>\n",
       "      <td>22.4</td>\n",
       "      <td>20.889882</td>\n",
       "    </tr>\n",
       "    <tr>\n",
       "      <th>30</th>\n",
       "      <td>21.4</td>\n",
       "      <td>21.553843</td>\n",
       "    </tr>\n",
       "    <tr>\n",
       "      <th>158</th>\n",
       "      <td>7.3</td>\n",
       "      <td>10.608503</td>\n",
       "    </tr>\n",
       "    <tr>\n",
       "      <th>128</th>\n",
       "      <td>24.7</td>\n",
       "      <td>22.112373</td>\n",
       "    </tr>\n",
       "  </tbody>\n",
       "</table>\n",
       "</div>"
      ],
      "text/plain": [
       "     Actual  Predicted\n",
       "95     16.9  16.408024\n",
       "15     22.4  20.889882\n",
       "30     21.4  21.553843\n",
       "158     7.3  10.608503\n",
       "128    24.7  22.112373"
      ]
     },
     "execution_count": 19,
     "metadata": {},
     "output_type": "execute_result"
    }
   ],
   "source": [
    "y_pred_test_df = pd.DataFrame({\"Actual\":y_test, \"Predicted\":y_pred_test})\n",
    "y_pred_test_df.head()"
   ]
  }
 ],
 "metadata": {
  "kernelspec": {
   "display_name": "Python 3 (ipykernel)",
   "language": "python",
   "name": "python3"
  },
  "language_info": {
   "codemirror_mode": {
    "name": "ipython",
    "version": 3
   },
   "file_extension": ".py",
   "mimetype": "text/x-python",
   "name": "python",
   "nbconvert_exporter": "python",
   "pygments_lexer": "ipython3",
   "version": "3.9.13"
  },
  "papermill": {
   "default_parameters": {},
   "duration": 12.062142,
   "end_time": "2023-02-13T10:07:12.954239",
   "environment_variables": {},
   "exception": null,
   "input_path": "__notebook__.ipynb",
   "output_path": "__notebook__.ipynb",
   "parameters": {},
   "start_time": "2023-02-13T10:07:00.892097",
   "version": "2.3.4"
  }
 },
 "nbformat": 4,
 "nbformat_minor": 5
}
